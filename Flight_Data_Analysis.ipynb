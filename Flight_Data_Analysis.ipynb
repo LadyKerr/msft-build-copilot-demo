{
 "cells": [
  {
   "cell_type": "markdown",
   "metadata": {},
   "source": [
    "# Predicting Flight Delays with GitHub Copilot\n",
    "The flight dataset is a dataset that contains information about flights and how they are delayed.\n",
    "In this notebook, we will use the dataset to predict whether a flight will be delayed or not."
   ]
  },
  {
   "cell_type": "code",
   "execution_count": null,
   "metadata": {},
   "outputs": [],
   "source": [
    "import pandas as pd\n",
    "\n",
    "df = pd.read_csv(\"data/flights.csv\")\n",
    "df.head()"
   ]
  },
  {
   "cell_type": "markdown",
   "metadata": {},
   "source": [
    "## Cleaning data with GitHub Copilot\n",
    "\n",
    "You can clean data with GitHub Copilot and ask questions about your data. For example, you can ask Copilot to remove missing values, remove duplicates, normalize your data and more."
   ]
  },
  {
   "cell_type": "code",
   "execution_count": null,
   "metadata": {},
   "outputs": [],
   "source": [
    "# identify and replace missing values\n",
    "df.isnull().sum()\n",
    "df.fillna(0, inplace=True)\n",
    "\n",
    "# update DepDel15 to 0 if null\n",
    "df['DepDel15'].fillna(0, inplace=True)\n",
    "\n",
    "# Calculate the z-scores of depdelay and arrdelay & find outliers\n",
    "z_scores = (df[['DepDelay', 'ArrDelay']] - df[['DepDelay', 'ArrDelay']].mean()) / df[['DepDelay', 'ArrDelay']].std()\n",
    "abs_z_scores = z_scores.abs()\n",
    "outliers = (abs_z_scores > 3).any(axis=1)\n",
    "\n",
    "# Remove the outliers\n",
    "df = df[~outliers]\n",
    "\n",
    "# show newly cleaned data\n",
    "df.head()\n"
   ]
  },
  {
   "cell_type": "markdown",
   "metadata": {},
   "source": [
    "## Ask Questions about your dataset with GitHub Copilot\n",
    "\n",
    "If there are any questions you have about your dataset, you can ask Copilot to help you with that. For example, you can ask Copilot to show you the shape of your dataset, show you the columns of your dataset and even ask about columns that you are not sure about."
   ]
  },
  {
   "cell_type": "markdown",
   "metadata": {},
   "source": [
    "q: what is DepDelay?\n",
    "a: DepDelay is the departure delay in minutes.\n",
    "\n",
    "q: what is DepDel15?\n",
    "a: DepDel15 is the departure delay indicator. It is 1 if the flight was delayed by 15 minutes or more, and 0 otherwise.\n",
    "\n",
    "q: what is CRSArrTime?\n",
    "a: CRSArrTime is the scheduled arrival time."
   ]
  },
  {
   "cell_type": "markdown",
   "metadata": {},
   "source": [
    "## Create a model with GitHub Copilot\n",
    "\n",
    "You can create a model with GitHub Copilot. For example, you can ask Copilot to create a model that predicts whether a flight will be delayed or not."
   ]
  },
  {
   "cell_type": "code",
   "execution_count": null,
   "metadata": {},
   "outputs": [],
   "source": [
    "# build model here\n"
   ]
  },
  {
   "cell_type": "markdown",
   "metadata": {},
   "source": [
    "## Code with your Voice with GitHub Copilot\n",
    "\n",
    "With Copilot Chat you can start a Voice chat and get help with your dataset."
   ]
  },
  {
   "cell_type": "code",
   "execution_count": null,
   "metadata": {},
   "outputs": [],
   "source": [
    "# add code here from voice\n"
   ]
  },
  {
   "cell_type": "markdown",
   "metadata": {},
   "source": [
    "# Slash Commands & Smart Actions with GitHub Copilot\n",
    "\n",
    "Slash commands and smart actions make it a fast way to interact with GitHub Copilot. You can use it to write documentation, test, and more.\n"
   ]
  }
 ],
 "metadata": {
  "kernelspec": {
   "display_name": "base",
   "language": "python",
   "name": "python3"
  },
  "language_info": {
   "codemirror_mode": {
    "name": "ipython",
    "version": 3
   },
   "file_extension": ".py",
   "mimetype": "text/x-python",
   "name": "python",
   "nbconvert_exporter": "python",
   "pygments_lexer": "ipython3",
   "version": "3.11.8"
  }
 },
 "nbformat": 4,
 "nbformat_minor": 2
}
